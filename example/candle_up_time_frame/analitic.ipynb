{
 "cells": [
  {
   "cell_type": "code",
   "execution_count": 1,
   "metadata": {},
   "outputs": [],
   "source": [
    "import logging\n",
    "logging.basicConfig(format='\\033[93m%(asctime)s %(levelname)s %(name)s:\\033[0m %(message)s', level=logging.INFO, datefmt='%I:%M:%S')"
   ]
  },
  {
   "cell_type": "markdown",
   "metadata": {},
   "source": [
    "# Load data"
   ]
  },
  {
   "cell_type": "code",
   "execution_count": 2,
   "metadata": {},
   "outputs": [],
   "source": [
    "from quote_source.client import ServiceClient, Configuration, TimeFrameDTO\n",
    "from quote_source.client.TimeFrame import TimeFrame\n",
    "from datetime import date"
   ]
  },
  {
   "cell_type": "code",
   "execution_count": 3,
   "metadata": {},
   "outputs": [],
   "source": [
    "cfg = Configuration()\n",
    "cfg.host = \"192.168.34.2:7002\"\n",
    "srvCNT = ServiceClient(cfg)"
   ]
  },
  {
   "cell_type": "code",
   "execution_count": 4,
   "metadata": {},
   "outputs": [
    {
     "data": {
      "text/plain": [
       "<TimeFrame.HOUR: 7>"
      ]
     },
     "execution_count": 4,
     "metadata": {},
     "output_type": "execute_result"
    }
   ],
   "source": [
    "base_tf = TimeFrame.HOUR\n",
    "base_tf"
   ]
  },
  {
   "cell_type": "code",
   "execution_count": 5,
   "metadata": {},
   "outputs": [
    {
     "data": {
      "text/plain": [
       "{'id': 1, 'name': 'Forex'}"
      ]
     },
     "execution_count": 5,
     "metadata": {},
     "output_type": "execute_result"
    }
   ],
   "source": [
    "markets = srvCNT.get_markets()\n",
    "market = [m for m in markets if \"Forex\" in m.name][0]\n",
    "market"
   ]
  },
  {
   "cell_type": "code",
   "execution_count": 6,
   "metadata": {},
   "outputs": [
    {
     "data": {
      "text/plain": [
       "{'code': 'EURUSD', 'id': 11, 'market_id': 1, 'name': 'Eur/Usd'}"
      ]
     },
     "execution_count": 6,
     "metadata": {},
     "output_type": "execute_result"
    }
   ],
   "source": [
    "stocks = srvCNT.get_stock(market, \"EURUSD\")\n",
    "stock = stocks[0]\n",
    "stock"
   ]
  },
  {
   "cell_type": "code",
   "execution_count": 7,
   "metadata": {},
   "outputs": [],
   "source": [
    "from_dt = date(2016,1,1)\n",
    "till_dt = date(2021,1,1)"
   ]
  },
  {
   "cell_type": "code",
   "execution_count": 8,
   "metadata": {},
   "outputs": [],
   "source": [
    "candles = srvCNT.get_quote(stock,base_tf, from_dt,till_dt)"
   ]
  },
  {
   "cell_type": "code",
   "execution_count": 9,
   "metadata": {},
   "outputs": [
    {
     "data": {
      "text/html": [
       "<div>\n",
       "<style scoped>\n",
       "    .dataframe tbody tr th:only-of-type {\n",
       "        vertical-align: middle;\n",
       "    }\n",
       "\n",
       "    .dataframe tbody tr th {\n",
       "        vertical-align: top;\n",
       "    }\n",
       "\n",
       "    .dataframe thead th {\n",
       "        text-align: right;\n",
       "    }\n",
       "</style>\n",
       "<table border=\"1\" class=\"dataframe\">\n",
       "  <thead>\n",
       "    <tr style=\"text-align: right;\">\n",
       "      <th></th>\n",
       "      <th>O</th>\n",
       "      <th>H</th>\n",
       "      <th>L</th>\n",
       "      <th>C</th>\n",
       "      <th>V</th>\n",
       "    </tr>\n",
       "    <tr>\n",
       "      <th>start_date_time</th>\n",
       "      <th></th>\n",
       "      <th></th>\n",
       "      <th></th>\n",
       "      <th></th>\n",
       "      <th></th>\n",
       "    </tr>\n",
       "  </thead>\n",
       "  <tbody>\n",
       "    <tr>\n",
       "      <th>2020-02-02 21:00:00+00:00</th>\n",
       "      <td>1.10846</td>\n",
       "      <td>1.10901</td>\n",
       "      <td>1.10810</td>\n",
       "      <td>1.10833</td>\n",
       "      <td>76.0</td>\n",
       "    </tr>\n",
       "    <tr>\n",
       "      <th>2020-02-02 22:00:00+00:00</th>\n",
       "      <td>1.10820</td>\n",
       "      <td>1.10839</td>\n",
       "      <td>1.10810</td>\n",
       "      <td>1.10834</td>\n",
       "      <td>5.0</td>\n",
       "    </tr>\n",
       "    <tr>\n",
       "      <th>2020-02-02 23:00:00+00:00</th>\n",
       "      <td>1.10829</td>\n",
       "      <td>1.10854</td>\n",
       "      <td>1.10800</td>\n",
       "      <td>1.10820</td>\n",
       "      <td>56.0</td>\n",
       "    </tr>\n",
       "    <tr>\n",
       "      <th>2020-02-03 00:00:00+00:00</th>\n",
       "      <td>1.10820</td>\n",
       "      <td>1.10950</td>\n",
       "      <td>1.10790</td>\n",
       "      <td>1.10940</td>\n",
       "      <td>216.0</td>\n",
       "    </tr>\n",
       "    <tr>\n",
       "      <th>2020-02-03 01:00:00+00:00</th>\n",
       "      <td>1.10936</td>\n",
       "      <td>1.10950</td>\n",
       "      <td>1.10788</td>\n",
       "      <td>1.10849</td>\n",
       "      <td>85073.0</td>\n",
       "    </tr>\n",
       "    <tr>\n",
       "      <th>...</th>\n",
       "      <td>...</td>\n",
       "      <td>...</td>\n",
       "      <td>...</td>\n",
       "      <td>...</td>\n",
       "      <td>...</td>\n",
       "    </tr>\n",
       "    <tr>\n",
       "      <th>2021-01-01 19:00:00+00:00</th>\n",
       "      <td>1.22138</td>\n",
       "      <td>1.22138</td>\n",
       "      <td>1.22138</td>\n",
       "      <td>1.22138</td>\n",
       "      <td>720.0</td>\n",
       "    </tr>\n",
       "    <tr>\n",
       "      <th>2021-01-01 20:00:00+00:00</th>\n",
       "      <td>1.22138</td>\n",
       "      <td>1.22138</td>\n",
       "      <td>1.22138</td>\n",
       "      <td>1.22138</td>\n",
       "      <td>720.0</td>\n",
       "    </tr>\n",
       "    <tr>\n",
       "      <th>2021-01-01 21:00:00+00:00</th>\n",
       "      <td>1.22138</td>\n",
       "      <td>1.22138</td>\n",
       "      <td>1.22138</td>\n",
       "      <td>1.22138</td>\n",
       "      <td>720.0</td>\n",
       "    </tr>\n",
       "    <tr>\n",
       "      <th>2021-01-01 22:00:00+00:00</th>\n",
       "      <td>1.22138</td>\n",
       "      <td>1.22138</td>\n",
       "      <td>1.22138</td>\n",
       "      <td>1.22138</td>\n",
       "      <td>720.0</td>\n",
       "    </tr>\n",
       "    <tr>\n",
       "      <th>2021-01-01 23:00:00+00:00</th>\n",
       "      <td>1.22138</td>\n",
       "      <td>1.22138</td>\n",
       "      <td>1.22138</td>\n",
       "      <td>1.22138</td>\n",
       "      <td>720.0</td>\n",
       "    </tr>\n",
       "  </tbody>\n",
       "</table>\n",
       "<p>99 rows × 5 columns</p>\n",
       "</div>"
      ],
      "text/plain": [
       "                                 O        H        L        C        V\n",
       "start_date_time                                                       \n",
       "2020-02-02 21:00:00+00:00  1.10846  1.10901  1.10810  1.10833     76.0\n",
       "2020-02-02 22:00:00+00:00  1.10820  1.10839  1.10810  1.10834      5.0\n",
       "2020-02-02 23:00:00+00:00  1.10829  1.10854  1.10800  1.10820     56.0\n",
       "2020-02-03 00:00:00+00:00  1.10820  1.10950  1.10790  1.10940    216.0\n",
       "2020-02-03 01:00:00+00:00  1.10936  1.10950  1.10788  1.10849  85073.0\n",
       "...                            ...      ...      ...      ...      ...\n",
       "2021-01-01 19:00:00+00:00  1.22138  1.22138  1.22138  1.22138    720.0\n",
       "2021-01-01 20:00:00+00:00  1.22138  1.22138  1.22138  1.22138    720.0\n",
       "2021-01-01 21:00:00+00:00  1.22138  1.22138  1.22138  1.22138    720.0\n",
       "2021-01-01 22:00:00+00:00  1.22138  1.22138  1.22138  1.22138    720.0\n",
       "2021-01-01 23:00:00+00:00  1.22138  1.22138  1.22138  1.22138    720.0\n",
       "\n",
       "[99 rows x 5 columns]"
      ]
     },
     "execution_count": 9,
     "metadata": {},
     "output_type": "execute_result"
    }
   ],
   "source": [
    "import pandas as pd\n",
    "df = pd.DataFrame([cndl.to_dict() for cndl in candles ])\n",
    "df = df.set_index(pd.to_datetime(df[\"start_date_time\"])).drop(\"start_date_time\", axis = 1).rename({\"close\":\"C\",\"open\":\"O\",\"high\":\"H\",\"low\":\"L\",\"volume\":\"V\"},axis=1)\n",
    "df"
   ]
  },
  {
   "cell_type": "markdown",
   "metadata": {},
   "source": [
    "# Проверяем, что можно поднять TimeFrame"
   ]
  },
  {
   "cell_type": "code",
   "execution_count": 10,
   "metadata": {},
   "outputs": [],
   "source": [
    "def check_tf_could_be_up(from_tf:TimeFrame, to_tf:TimeFrame)->bool:\n",
    "    return to_tf.to_seconds()%from_tf.to_seconds()==0"
   ]
  },
  {
   "cell_type": "code",
   "execution_count": 11,
   "metadata": {},
   "outputs": [
    {
     "name": "stdout",
     "output_type": "stream",
     "text": [
      "Успешное поднятие TF из TimeFrame.HOUR в TimeFrame.DAY: True\n"
     ]
    }
   ],
   "source": [
    "print(f\"Успешное поднятие TF из {TimeFrame.HOUR} в {TimeFrame.DAY}: {check_tf_could_be_up(TimeFrame.H, TimeFrame.D)}\")"
   ]
  },
  {
   "cell_type": "markdown",
   "metadata": {},
   "source": [
    "# Поднимаем данные"
   ]
  },
  {
   "cell_type": "code",
   "execution_count": 12,
   "metadata": {},
   "outputs": [],
   "source": [
    "def count_candle_in_up_candle(from_tf:TimeFrame, to_tf:TimeFrame)->int:\n",
    "    return to_tf.to_seconds()//from_tf.to_seconds()"
   ]
  },
  {
   "cell_type": "code",
   "execution_count": 13,
   "metadata": {},
   "outputs": [
    {
     "name": "stdout",
     "output_type": "stream",
     "text": [
      "TimeFrame TimeFrame.DAY содержит 24 candle TimeFrame.HOUR\n"
     ]
    }
   ],
   "source": [
    "print(f\"TimeFrame {TimeFrame.D} содержит {count_candle_in_up_candle(TimeFrame.H, TimeFrame.D)} candle {TimeFrame.H}\")"
   ]
  },
  {
   "cell_type": "code",
   "execution_count": 22,
   "metadata": {},
   "outputs": [],
   "source": [
    "import pandas as pd\n",
    "from typing import Tuple\n",
    "from datetime import datetime\n",
    "from __future__ import annotations\n",
    "from src.candle_up_time_frame.timeframe_candle_up.dt_compare import compare_strategy\n",
    "\n",
    "\n",
    "\n",
    "class Condenser:\n",
    "    def __init__(self, compare_dt_strategy = compare_strategy, col_map:colmap = colmap.get_short_map()) -> None:\n",
    "        \"\"\"Конструктор\n",
    "\n",
    "        Args:\n",
    "            compare_dt_strategy ([type], optional): Стратегия для получения функции определения начала новой свечи. Defaults to CompareStrategy.\n",
    "            col_map (Condenser.colmap, optional): Маппер названий колонок и их назначение. Defaults to colmap.get_short_map().\n",
    "        \"\"\"\n",
    "        self.logger = logging.getLogger(\"Condencer\")\n",
    "        self.__comp_dt_str = compare_dt_strategy\n",
    "        self.__col_map = col_map\n",
    "        \n",
    "    def get_new_candle_flg(self, df: pd.DataFrame, upper_tf: TimeFrame)->pd.Series:\n",
    "        comp_func = self.__comp_dt_str(upper_tf)\n",
    "        self.logger.info(\"Get DT compare function\")\n",
    "\n",
    "        worker = new_candle_flag_builder(comp_func)\n",
    "        \n",
    "        return pd.Series(df.index.map(lambda idx: worker.get_flag(idx)),index=df.index)\n"
   ]
  },
  {
   "cell_type": "code",
   "execution_count": 18,
   "metadata": {},
   "outputs": [],
   "source": [
    "condenser = Condenser()\n"
   ]
  },
  {
   "cell_type": "code",
   "execution_count": 21,
   "metadata": {},
   "outputs": [
    {
     "name": "stderr",
     "output_type": "stream",
     "text": [
      "\u001b[93m03:41:59 INFO Condencer:\u001b[0m Get DT compare function\n"
     ]
    },
    {
     "ename": "ValueError",
     "evalue": "The truth value of an array with more than one element is ambiguous. Use a.any() or a.all()",
     "output_type": "error",
     "traceback": [
      "\u001b[0;31m---------------------------------------------------------------------------\u001b[0m",
      "\u001b[0;31mTypeError\u001b[0m                                 Traceback (most recent call last)",
      "File \u001b[0;32m/usr/local/lib/python3.9/site-packages/pandas/core/indexes/extension.py:165\u001b[0m, in \u001b[0;36mExtensionIndex.map\u001b[0;34m(self, mapper, na_action)\u001b[0m\n\u001b[1;32m    <a href='file:///usr/local/lib/python3.9/site-packages/pandas/core/indexes/extension.py?line=163'>164</a>\u001b[0m \u001b[39mif\u001b[39;00m \u001b[39mnot\u001b[39;00m \u001b[39misinstance\u001b[39m(result, Index):\n\u001b[0;32m--> <a href='file:///usr/local/lib/python3.9/site-packages/pandas/core/indexes/extension.py?line=164'>165</a>\u001b[0m     \u001b[39mraise\u001b[39;00m \u001b[39mTypeError\u001b[39;00m(\u001b[39m\"\u001b[39m\u001b[39mThe map function must return an Index object\u001b[39m\u001b[39m\"\u001b[39m)\n\u001b[1;32m    <a href='file:///usr/local/lib/python3.9/site-packages/pandas/core/indexes/extension.py?line=165'>166</a>\u001b[0m \u001b[39mreturn\u001b[39;00m result\n",
      "\u001b[0;31mTypeError\u001b[0m: The map function must return an Index object",
      "\nDuring handling of the above exception, another exception occurred:\n",
      "\u001b[0;31mValueError\u001b[0m                                Traceback (most recent call last)",
      "\u001b[1;32m/workspaces/Indicators/example/candle_up_time_frame/analitic.ipynb Cell 19'\u001b[0m in \u001b[0;36m<module>\u001b[0;34m\u001b[0m\n\u001b[0;32m----> <a href='vscode-notebook-cell://dev-container%2B693a5c6d7970726f6772616d6d5c4d7950726f6772616d6d5c4d7950726f6a656374735c76325c4e4e54726164655c76325c496e64696361746f7273/workspaces/Indicators/example/candle_up_time_frame/analitic.ipynb#ch0000022vscode-remote?line=0'>1</a>\u001b[0m condenser\u001b[39m.\u001b[39;49mget_new_candle_flg(df, TimeFrame\u001b[39m.\u001b[39;49mD)\n",
      "\u001b[1;32m/workspaces/Indicators/example/candle_up_time_frame/analitic.ipynb Cell 17'\u001b[0m in \u001b[0;36mCondenser.get_new_candle_flg\u001b[0;34m(self, df, upper_tf)\u001b[0m\n\u001b[1;32m     <a href='vscode-notebook-cell://dev-container%2B693a5c6d7970726f6772616d6d5c4d7950726f6772616d6d5c4d7950726f6a656374735c76325c4e4e54726164655c76325c496e64696361746f7273/workspaces/Indicators/example/candle_up_time_frame/analitic.ipynb#ch0000020vscode-remote?line=69'>70</a>\u001b[0m \u001b[39mself\u001b[39m\u001b[39m.\u001b[39mlogger\u001b[39m.\u001b[39minfo(\u001b[39m\"\u001b[39m\u001b[39mGet DT compare function\u001b[39m\u001b[39m\"\u001b[39m)\n\u001b[1;32m     <a href='vscode-notebook-cell://dev-container%2B693a5c6d7970726f6772616d6d5c4d7950726f6772616d6d5c4d7950726f6a656374735c76325c4e4e54726164655c76325c496e64696361746f7273/workspaces/Indicators/example/candle_up_time_frame/analitic.ipynb#ch0000020vscode-remote?line=71'>72</a>\u001b[0m worker \u001b[39m=\u001b[39m new_candle_flag_builder(comp_func)\n\u001b[0;32m---> <a href='vscode-notebook-cell://dev-container%2B693a5c6d7970726f6772616d6d5c4d7950726f6772616d6d5c4d7950726f6a656374735c76325c4e4e54726164655c76325c496e64696361746f7273/workspaces/Indicators/example/candle_up_time_frame/analitic.ipynb#ch0000020vscode-remote?line=73'>74</a>\u001b[0m \u001b[39mreturn\u001b[39;00m pd\u001b[39m.\u001b[39mSeries(df\u001b[39m.\u001b[39mindex\u001b[39m.\u001b[39mmap(\u001b[39mlambda\u001b[39;00m idx: worker\u001b[39m.\u001b[39mget_flag(idx)),index\u001b[39m=\u001b[39mdf\u001b[39m.\u001b[39mindex)\n",
      "File \u001b[0;32m/usr/local/lib/python3.9/site-packages/pandas/core/indexes/extension.py:168\u001b[0m, in \u001b[0;36mExtensionIndex.map\u001b[0;34m(self, mapper, na_action)\u001b[0m\n\u001b[1;32m    <a href='file:///usr/local/lib/python3.9/site-packages/pandas/core/indexes/extension.py?line=165'>166</a>\u001b[0m     \u001b[39mreturn\u001b[39;00m result\n\u001b[1;32m    <a href='file:///usr/local/lib/python3.9/site-packages/pandas/core/indexes/extension.py?line=166'>167</a>\u001b[0m \u001b[39mexcept\u001b[39;00m \u001b[39mException\u001b[39;00m:\n\u001b[0;32m--> <a href='file:///usr/local/lib/python3.9/site-packages/pandas/core/indexes/extension.py?line=167'>168</a>\u001b[0m     \u001b[39mreturn\u001b[39;00m \u001b[39mself\u001b[39;49m\u001b[39m.\u001b[39;49mastype(\u001b[39mobject\u001b[39;49m)\u001b[39m.\u001b[39;49mmap(mapper)\n",
      "File \u001b[0;32m/usr/local/lib/python3.9/site-packages/pandas/core/indexes/base.py:6076\u001b[0m, in \u001b[0;36mIndex.map\u001b[0;34m(self, mapper, na_action)\u001b[0m\n\u001b[1;32m   <a href='file:///usr/local/lib/python3.9/site-packages/pandas/core/indexes/base.py?line=6055'>6056</a>\u001b[0m \u001b[39m\"\"\"\u001b[39;00m\n\u001b[1;32m   <a href='file:///usr/local/lib/python3.9/site-packages/pandas/core/indexes/base.py?line=6056'>6057</a>\u001b[0m \u001b[39mMap values using an input mapping or function.\u001b[39;00m\n\u001b[1;32m   <a href='file:///usr/local/lib/python3.9/site-packages/pandas/core/indexes/base.py?line=6057'>6058</a>\u001b[0m \n\u001b[0;32m   (...)\u001b[0m\n\u001b[1;32m   <a href='file:///usr/local/lib/python3.9/site-packages/pandas/core/indexes/base.py?line=6071'>6072</a>\u001b[0m \u001b[39m    a MultiIndex will be returned.\u001b[39;00m\n\u001b[1;32m   <a href='file:///usr/local/lib/python3.9/site-packages/pandas/core/indexes/base.py?line=6072'>6073</a>\u001b[0m \u001b[39m\"\"\"\u001b[39;00m\n\u001b[1;32m   <a href='file:///usr/local/lib/python3.9/site-packages/pandas/core/indexes/base.py?line=6073'>6074</a>\u001b[0m \u001b[39mfrom\u001b[39;00m \u001b[39mpandas\u001b[39;00m\u001b[39m.\u001b[39;00m\u001b[39mcore\u001b[39;00m\u001b[39m.\u001b[39;00m\u001b[39mindexes\u001b[39;00m\u001b[39m.\u001b[39;00m\u001b[39mmulti\u001b[39;00m \u001b[39mimport\u001b[39;00m MultiIndex\n\u001b[0;32m-> <a href='file:///usr/local/lib/python3.9/site-packages/pandas/core/indexes/base.py?line=6075'>6076</a>\u001b[0m new_values \u001b[39m=\u001b[39m \u001b[39mself\u001b[39;49m\u001b[39m.\u001b[39;49m_map_values(mapper, na_action\u001b[39m=\u001b[39;49mna_action)\n\u001b[1;32m   <a href='file:///usr/local/lib/python3.9/site-packages/pandas/core/indexes/base.py?line=6077'>6078</a>\u001b[0m \u001b[39m# we can return a MultiIndex\u001b[39;00m\n\u001b[1;32m   <a href='file:///usr/local/lib/python3.9/site-packages/pandas/core/indexes/base.py?line=6078'>6079</a>\u001b[0m \u001b[39mif\u001b[39;00m new_values\u001b[39m.\u001b[39msize \u001b[39mand\u001b[39;00m \u001b[39misinstance\u001b[39m(new_values[\u001b[39m0\u001b[39m], \u001b[39mtuple\u001b[39m):\n",
      "File \u001b[0;32m/usr/local/lib/python3.9/site-packages/pandas/core/base.py:880\u001b[0m, in \u001b[0;36mIndexOpsMixin._map_values\u001b[0;34m(self, mapper, na_action)\u001b[0m\n\u001b[1;32m    <a href='file:///usr/local/lib/python3.9/site-packages/pandas/core/base.py?line=876'>877</a>\u001b[0m         \u001b[39mraise\u001b[39;00m \u001b[39mValueError\u001b[39;00m(msg)\n\u001b[1;32m    <a href='file:///usr/local/lib/python3.9/site-packages/pandas/core/base.py?line=878'>879</a>\u001b[0m \u001b[39m# mapper is a function\u001b[39;00m\n\u001b[0;32m--> <a href='file:///usr/local/lib/python3.9/site-packages/pandas/core/base.py?line=879'>880</a>\u001b[0m new_values \u001b[39m=\u001b[39m map_f(values, mapper)\n\u001b[1;32m    <a href='file:///usr/local/lib/python3.9/site-packages/pandas/core/base.py?line=881'>882</a>\u001b[0m \u001b[39mreturn\u001b[39;00m new_values\n",
      "File \u001b[0;32m/usr/local/lib/python3.9/site-packages/pandas/_libs/lib.pyx:2870\u001b[0m, in \u001b[0;36mpandas._libs.lib.map_infer\u001b[0;34m()\u001b[0m\n",
      "\u001b[1;32m/workspaces/Indicators/example/candle_up_time_frame/analitic.ipynb Cell 17'\u001b[0m in \u001b[0;36mCondenser.get_new_candle_flg.<locals>.<lambda>\u001b[0;34m(idx)\u001b[0m\n\u001b[1;32m     <a href='vscode-notebook-cell://dev-container%2B693a5c6d7970726f6772616d6d5c4d7950726f6772616d6d5c4d7950726f6a656374735c76325c4e4e54726164655c76325c496e64696361746f7273/workspaces/Indicators/example/candle_up_time_frame/analitic.ipynb#ch0000020vscode-remote?line=69'>70</a>\u001b[0m \u001b[39mself\u001b[39m\u001b[39m.\u001b[39mlogger\u001b[39m.\u001b[39minfo(\u001b[39m\"\u001b[39m\u001b[39mGet DT compare function\u001b[39m\u001b[39m\"\u001b[39m)\n\u001b[1;32m     <a href='vscode-notebook-cell://dev-container%2B693a5c6d7970726f6772616d6d5c4d7950726f6772616d6d5c4d7950726f6a656374735c76325c4e4e54726164655c76325c496e64696361746f7273/workspaces/Indicators/example/candle_up_time_frame/analitic.ipynb#ch0000020vscode-remote?line=71'>72</a>\u001b[0m worker \u001b[39m=\u001b[39m new_candle_flag_builder(comp_func)\n\u001b[0;32m---> <a href='vscode-notebook-cell://dev-container%2B693a5c6d7970726f6772616d6d5c4d7950726f6772616d6d5c4d7950726f6a656374735c76325c4e4e54726164655c76325c496e64696361746f7273/workspaces/Indicators/example/candle_up_time_frame/analitic.ipynb#ch0000020vscode-remote?line=73'>74</a>\u001b[0m \u001b[39mreturn\u001b[39;00m pd\u001b[39m.\u001b[39mSeries(df\u001b[39m.\u001b[39mindex\u001b[39m.\u001b[39mmap(\u001b[39mlambda\u001b[39;00m idx: worker\u001b[39m.\u001b[39mget_flag(idx)),index\u001b[39m=\u001b[39mdf\u001b[39m.\u001b[39mindex)\n",
      "\u001b[1;32m/workspaces/Indicators/example/candle_up_time_frame/analitic.ipynb Cell 17'\u001b[0m in \u001b[0;36mnew_candle_flag_builder.get_flag\u001b[0;34m(self, dt)\u001b[0m\n\u001b[1;32m     <a href='vscode-notebook-cell://dev-container%2B693a5c6d7970726f6772616d6d5c4d7950726f6772616d6d5c4d7950726f6a656374735c76325c4e4e54726164655c76325c496e64696361746f7273/workspaces/Indicators/example/candle_up_time_frame/analitic.ipynb#ch0000020vscode-remote?line=40'>41</a>\u001b[0m \u001b[39mdef\u001b[39;00m \u001b[39mget_flag\u001b[39m(\u001b[39mself\u001b[39m, dt:pd\u001b[39m.\u001b[39mTimestamp)\u001b[39m-\u001b[39m\u001b[39m>\u001b[39m\u001b[39mbool\u001b[39m:\n\u001b[1;32m     <a href='vscode-notebook-cell://dev-container%2B693a5c6d7970726f6772616d6d5c4d7950726f6772616d6d5c4d7950726f6a656374735c76325c4e4e54726164655c76325c496e64696361746f7273/workspaces/Indicators/example/candle_up_time_frame/analitic.ipynb#ch0000020vscode-remote?line=41'>42</a>\u001b[0m     \u001b[39m\"\"\"Проверить время на признак, что это новая свеча\u001b[39;00m\n\u001b[1;32m     <a href='vscode-notebook-cell://dev-container%2B693a5c6d7970726f6772616d6d5c4d7950726f6772616d6d5c4d7950726f6a656374735c76325c4e4e54726164655c76325c496e64696361746f7273/workspaces/Indicators/example/candle_up_time_frame/analitic.ipynb#ch0000020vscode-remote?line=42'>43</a>\u001b[0m \n\u001b[1;32m     <a href='vscode-notebook-cell://dev-container%2B693a5c6d7970726f6772616d6d5c4d7950726f6772616d6d5c4d7950726f6a656374735c76325c4e4e54726164655c76325c496e64696361746f7273/workspaces/Indicators/example/candle_up_time_frame/analitic.ipynb#ch0000020vscode-remote?line=43'>44</a>\u001b[0m \u001b[39m    Args:\u001b[39;00m\n\u001b[0;32m   (...)\u001b[0m\n\u001b[1;32m     <a href='vscode-notebook-cell://dev-container%2B693a5c6d7970726f6772616d6d5c4d7950726f6772616d6d5c4d7950726f6a656374735c76325c4e4e54726164655c76325c496e64696361746f7273/workspaces/Indicators/example/candle_up_time_frame/analitic.ipynb#ch0000020vscode-remote?line=47'>48</a>\u001b[0m \u001b[39m        bool: флаг с результатом\u001b[39;00m\n\u001b[1;32m     <a href='vscode-notebook-cell://dev-container%2B693a5c6d7970726f6772616d6d5c4d7950726f6772616d6d5c4d7950726f6a656374735c76325c4e4e54726164655c76325c496e64696361746f7273/workspaces/Indicators/example/candle_up_time_frame/analitic.ipynb#ch0000020vscode-remote?line=48'>49</a>\u001b[0m \u001b[39m    \"\"\"\u001b[39;00m\n\u001b[0;32m---> <a href='vscode-notebook-cell://dev-container%2B693a5c6d7970726f6772616d6d5c4d7950726f6772616d6d5c4d7950726f6a656374735c76325c4e4e54726164655c76325c496e64696361746f7273/workspaces/Indicators/example/candle_up_time_frame/analitic.ipynb#ch0000020vscode-remote?line=49'>50</a>\u001b[0m     \u001b[39mif\u001b[39;00m \u001b[39mnot\u001b[39;00m \u001b[39mself\u001b[39m\u001b[39m.\u001b[39m__compare_func(dt, \u001b[39mself\u001b[39m\u001b[39m.\u001b[39m__prev_date):\n\u001b[1;32m     <a href='vscode-notebook-cell://dev-container%2B693a5c6d7970726f6772616d6d5c4d7950726f6772616d6d5c4d7950726f6a656374735c76325c4e4e54726164655c76325c496e64696361746f7273/workspaces/Indicators/example/candle_up_time_frame/analitic.ipynb#ch0000020vscode-remote?line=50'>51</a>\u001b[0m         \u001b[39mself\u001b[39m\u001b[39m.\u001b[39m__prev_date \u001b[39m=\u001b[39m dt\n\u001b[1;32m     <a href='vscode-notebook-cell://dev-container%2B693a5c6d7970726f6772616d6d5c4d7950726f6772616d6d5c4d7950726f6a656374735c76325c4e4e54726164655c76325c496e64696361746f7273/workspaces/Indicators/example/candle_up_time_frame/analitic.ipynb#ch0000020vscode-remote?line=51'>52</a>\u001b[0m         \u001b[39mreturn\u001b[39;00m \u001b[39mTrue\u001b[39;00m\n",
      "File \u001b[0;32m/workspaces/Indicators/src/candle_up_time_frame/timeframe_candle_up/dt_compare.py:40\u001b[0m, in \u001b[0;36mdaily\u001b[0;34m(date, prev)\u001b[0m\n\u001b[1;32m     <a href='file:///workspaces/Indicators/src/candle_up_time_frame/timeframe_candle_up/dt_compare.py?line=38'>39</a>\u001b[0m \u001b[39mdef\u001b[39;00m \u001b[39mdaily\u001b[39m(date: pd\u001b[39m.\u001b[39mTimestamp, prev: pd\u001b[39m.\u001b[39mTimestamp):\n\u001b[0;32m---> <a href='file:///workspaces/Indicators/src/candle_up_time_frame/timeframe_candle_up/dt_compare.py?line=39'>40</a>\u001b[0m     \u001b[39mreturn\u001b[39;00m prev \u001b[39mis\u001b[39;00m \u001b[39mnot\u001b[39;00m \u001b[39mNone\u001b[39;00m \u001b[39mand\u001b[39;00m date \u001b[39mis\u001b[39;00m \u001b[39mnot\u001b[39;00m \u001b[39mNone\u001b[39;00m \u001b[39mand\u001b[39;00m \\\n\u001b[1;32m     <a href='file:///workspaces/Indicators/src/candle_up_time_frame/timeframe_candle_up/dt_compare.py?line=40'>41</a>\u001b[0m         date\u001b[39m.\u001b[39myear \u001b[39m==\u001b[39m prev\u001b[39m.\u001b[39myear \u001b[39mand\u001b[39;00m \\\n\u001b[1;32m     <a href='file:///workspaces/Indicators/src/candle_up_time_frame/timeframe_candle_up/dt_compare.py?line=41'>42</a>\u001b[0m         date\u001b[39m.\u001b[39mdayofyear \u001b[39m==\u001b[39m prev\u001b[39m.\u001b[39mdayofyear\n",
      "\u001b[0;31mValueError\u001b[0m: The truth value of an array with more than one element is ambiguous. Use a.any() or a.all()"
     ]
    }
   ],
   "source": [
    "condenser.get_new_candle_flg(df, TimeFrame.D)"
   ]
  },
  {
   "cell_type": "code",
   "execution_count": null,
   "metadata": {},
   "outputs": [
    {
     "data": {
      "text/plain": [
       "DT\n",
       "2016-01-01 00:00:00   2016-01-01 00:00:00\n",
       "2016-01-01 01:00:00   2016-01-01 01:00:00\n",
       "2016-01-01 02:00:00   2016-01-01 02:00:00\n",
       "2016-01-01 03:00:00   2016-01-01 03:00:00\n",
       "2016-01-01 04:00:00   2016-01-01 04:00:00\n",
       "                              ...        \n",
       "2021-01-01 20:00:00   2021-01-01 20:00:00\n",
       "2021-01-01 21:00:00   2021-01-01 21:00:00\n",
       "2021-01-01 22:00:00   2021-01-01 22:00:00\n",
       "2021-01-01 23:00:00   2021-01-01 23:00:00\n",
       "2021-01-02 00:00:00   2021-01-02 00:00:00\n",
       "Length: 32180, dtype: datetime64[ns]"
      ]
     },
     "execution_count": 11,
     "metadata": {},
     "output_type": "execute_result"
    }
   ],
   "source": [
    "target_df = df.apply(lambda row: condenser.check_base_row(row), axis=1)"
   ]
  },
  {
   "cell_type": "code",
   "execution_count": null,
   "metadata": {},
   "outputs": [
    {
     "ename": "NameError",
     "evalue": "name 'data_df' is not defined",
     "output_type": "error",
     "traceback": [
      "\u001b[0;31m---------------------------------------------------------------------------\u001b[0m",
      "\u001b[0;31mNameError\u001b[0m                                 Traceback (most recent call last)",
      "Input \u001b[0;32mIn [6]\u001b[0m, in \u001b[0;36m<module>\u001b[0;34m\u001b[0m\n\u001b[1;32m      1\u001b[0m \u001b[38;5;28;01mimport\u001b[39;00m \u001b[38;5;21;01mpandas\u001b[39;00m \u001b[38;5;28;01mas\u001b[39;00m \u001b[38;5;21;01mpd\u001b[39;00m\n\u001b[0;32m----> 2\u001b[0m \u001b[43mdata_df\u001b[49m\u001b[38;5;241m.\u001b[39mapply(\u001b[38;5;28;01mlambda\u001b[39;00m row: pd\u001b[38;5;241m.\u001b[39mSeries(row\u001b[38;5;241m.\u001b[39mname,row[\u001b[38;5;124m\"\u001b[39m\u001b[38;5;124mC\u001b[39m\u001b[38;5;124m\"\u001b[39m]),axis\u001b[38;5;241m=\u001b[39m\u001b[38;5;241m1\u001b[39m)\n",
      "\u001b[0;31mNameError\u001b[0m: name 'data_df' is not defined"
     ]
    }
   ],
   "source": [
    "import pandas as pd\n",
    "data_df.apply(lambda row: pd.Series(row.name,row[\"C\"]),axis=1)"
   ]
  },
  {
   "cell_type": "code",
   "execution_count": null,
   "metadata": {},
   "outputs": [],
   "source": []
  }
 ],
 "metadata": {
  "interpreter": {
   "hash": "949777d72b0d2535278d3dc13498b2535136f6dfe0678499012e853ee9abcab1"
  },
  "kernelspec": {
   "display_name": "Python 3.9.9 64-bit",
   "language": "python",
   "name": "python3"
  },
  "language_info": {
   "codemirror_mode": {
    "name": "ipython",
    "version": 3
   },
   "file_extension": ".py",
   "mimetype": "text/x-python",
   "name": "python",
   "nbconvert_exporter": "python",
   "pygments_lexer": "ipython3",
   "version": "3.9.10"
  },
  "orig_nbformat": 4
 },
 "nbformat": 4,
 "nbformat_minor": 2
}
