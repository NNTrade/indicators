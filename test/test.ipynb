{
 "cells": [
  {
   "cell_type": "code",
   "execution_count": 2,
   "metadata": {},
   "outputs": [
    {
     "data": {
      "text/plain": [
       "[10, 2, 3, 7, 3]"
      ]
     },
     "execution_count": 2,
     "metadata": {},
     "output_type": "execute_result"
    }
   ],
   "source": [
    "arr = [10,2,3,7,3]\n",
    "arr"
   ]
  },
  {
   "cell_type": "code",
   "execution_count": 4,
   "metadata": {},
   "outputs": [
    {
     "data": {
      "text/plain": [
       "[3, 7, 3, 2, 10]"
      ]
     },
     "execution_count": 4,
     "metadata": {},
     "output_type": "execute_result"
    }
   ],
   "source": [
    "arr[::-1]"
   ]
  },
  {
   "cell_type": "code",
   "execution_count": 4,
   "metadata": {},
   "outputs": [],
   "source": [
    "import pkg_resources\n",
    "import os\n",
    "from pathlib import Path\n",
    "def get_req_files(file:str):\n",
    "    file_path = os.path.join(Path('.'),file)\n",
    "    with open(file_path) as requirements_txt:\n",
    "        ret = []\n",
    "        for requirement in pkg_resources.parse_requirements(requirements_txt):\n",
    "            ret.append(str(requirement))\n",
    "        return ret\n",
    "\n",
    "def get_requirements():\n",
    "    ret_requires = []\n",
    "    for req_txt in get_req_files(\"requirements.txt\"):\n",
    "        ret_requires.append(req_txt)\n",
    "    for req_txt in get_req_files(\"requirements_ssh.txt\"):\n",
    "        ret_requires.append(req_txt)\n",
    "    return ret_requires"
   ]
  },
  {
   "cell_type": "code",
   "execution_count": 5,
   "metadata": {},
   "outputs": [
    {
     "ename": "InvalidRequirement",
     "evalue": "Parse error at \"'+ssh://g'\": Expected stringEnd",
     "output_type": "error",
     "traceback": [
      "\u001b[0;31m---------------------------------------------------------------------------\u001b[0m",
      "\u001b[0;31mParseException\u001b[0m                            Traceback (most recent call last)",
      "File \u001b[0;32m~/.local/lib/python3.9/site-packages/pkg_resources/_vendor/packaging/requirements.py:102\u001b[0m, in \u001b[0;36mRequirement.__init__\u001b[0;34m(self, requirement_string)\u001b[0m\n\u001b[1;32m    <a href='file:///~/.local/lib/python3.9/site-packages/pkg_resources/_vendor/packaging/requirements.py?line=100'>101</a>\u001b[0m \u001b[39mtry\u001b[39;00m:\n\u001b[0;32m--> <a href='file:///~/.local/lib/python3.9/site-packages/pkg_resources/_vendor/packaging/requirements.py?line=101'>102</a>\u001b[0m     req \u001b[39m=\u001b[39m REQUIREMENT\u001b[39m.\u001b[39;49mparseString(requirement_string)\n\u001b[1;32m    <a href='file:///~/.local/lib/python3.9/site-packages/pkg_resources/_vendor/packaging/requirements.py?line=102'>103</a>\u001b[0m \u001b[39mexcept\u001b[39;00m ParseException \u001b[39mas\u001b[39;00m e:\n",
      "File \u001b[0;32m~/.local/lib/python3.9/site-packages/pkg_resources/_vendor/pyparsing.py:1654\u001b[0m, in \u001b[0;36mParserElement.parseString\u001b[0;34m(self, instring, parseAll)\u001b[0m\n\u001b[1;32m   <a href='file:///~/.local/lib/python3.9/site-packages/pkg_resources/_vendor/pyparsing.py?line=1651'>1652</a>\u001b[0m     \u001b[39melse\u001b[39;00m:\n\u001b[1;32m   <a href='file:///~/.local/lib/python3.9/site-packages/pkg_resources/_vendor/pyparsing.py?line=1652'>1653</a>\u001b[0m         \u001b[39m# catch and re-raise exception from here, clears out pyparsing internal stack trace\u001b[39;00m\n\u001b[0;32m-> <a href='file:///~/.local/lib/python3.9/site-packages/pkg_resources/_vendor/pyparsing.py?line=1653'>1654</a>\u001b[0m         \u001b[39mraise\u001b[39;00m exc\n\u001b[1;32m   <a href='file:///~/.local/lib/python3.9/site-packages/pkg_resources/_vendor/pyparsing.py?line=1654'>1655</a>\u001b[0m \u001b[39melse\u001b[39;00m:\n",
      "File \u001b[0;32m~/.local/lib/python3.9/site-packages/pkg_resources/_vendor/pyparsing.py:1644\u001b[0m, in \u001b[0;36mParserElement.parseString\u001b[0;34m(self, instring, parseAll)\u001b[0m\n\u001b[1;32m   <a href='file:///~/.local/lib/python3.9/site-packages/pkg_resources/_vendor/pyparsing.py?line=1642'>1643</a>\u001b[0m \u001b[39mtry\u001b[39;00m:\n\u001b[0;32m-> <a href='file:///~/.local/lib/python3.9/site-packages/pkg_resources/_vendor/pyparsing.py?line=1643'>1644</a>\u001b[0m     loc, tokens \u001b[39m=\u001b[39m \u001b[39mself\u001b[39;49m\u001b[39m.\u001b[39;49m_parse( instring, \u001b[39m0\u001b[39;49m )\n\u001b[1;32m   <a href='file:///~/.local/lib/python3.9/site-packages/pkg_resources/_vendor/pyparsing.py?line=1644'>1645</a>\u001b[0m     \u001b[39mif\u001b[39;00m parseAll:\n",
      "File \u001b[0;32m~/.local/lib/python3.9/site-packages/pkg_resources/_vendor/pyparsing.py:1402\u001b[0m, in \u001b[0;36mParserElement._parseNoCache\u001b[0;34m(self, instring, loc, doActions, callPreParse)\u001b[0m\n\u001b[1;32m   <a href='file:///~/.local/lib/python3.9/site-packages/pkg_resources/_vendor/pyparsing.py?line=1400'>1401</a>\u001b[0m \u001b[39mtry\u001b[39;00m:\n\u001b[0;32m-> <a href='file:///~/.local/lib/python3.9/site-packages/pkg_resources/_vendor/pyparsing.py?line=1401'>1402</a>\u001b[0m     loc,tokens \u001b[39m=\u001b[39m \u001b[39mself\u001b[39;49m\u001b[39m.\u001b[39;49mparseImpl( instring, preloc, doActions )\n\u001b[1;32m   <a href='file:///~/.local/lib/python3.9/site-packages/pkg_resources/_vendor/pyparsing.py?line=1402'>1403</a>\u001b[0m \u001b[39mexcept\u001b[39;00m \u001b[39mIndexError\u001b[39;00m:\n",
      "File \u001b[0;32m~/.local/lib/python3.9/site-packages/pkg_resources/_vendor/pyparsing.py:3417\u001b[0m, in \u001b[0;36mAnd.parseImpl\u001b[0;34m(self, instring, loc, doActions)\u001b[0m\n\u001b[1;32m   <a href='file:///~/.local/lib/python3.9/site-packages/pkg_resources/_vendor/pyparsing.py?line=3415'>3416</a>\u001b[0m \u001b[39melse\u001b[39;00m:\n\u001b[0;32m-> <a href='file:///~/.local/lib/python3.9/site-packages/pkg_resources/_vendor/pyparsing.py?line=3416'>3417</a>\u001b[0m     loc, exprtokens \u001b[39m=\u001b[39m e\u001b[39m.\u001b[39;49m_parse( instring, loc, doActions )\n\u001b[1;32m   <a href='file:///~/.local/lib/python3.9/site-packages/pkg_resources/_vendor/pyparsing.py?line=3417'>3418</a>\u001b[0m \u001b[39mif\u001b[39;00m exprtokens \u001b[39mor\u001b[39;00m exprtokens\u001b[39m.\u001b[39mhaskeys():\n",
      "File \u001b[0;32m~/.local/lib/python3.9/site-packages/pkg_resources/_vendor/pyparsing.py:1406\u001b[0m, in \u001b[0;36mParserElement._parseNoCache\u001b[0;34m(self, instring, loc, doActions, callPreParse)\u001b[0m\n\u001b[1;32m   <a href='file:///~/.local/lib/python3.9/site-packages/pkg_resources/_vendor/pyparsing.py?line=1404'>1405</a>\u001b[0m     \u001b[39melse\u001b[39;00m:\n\u001b[0;32m-> <a href='file:///~/.local/lib/python3.9/site-packages/pkg_resources/_vendor/pyparsing.py?line=1405'>1406</a>\u001b[0m         loc,tokens \u001b[39m=\u001b[39m \u001b[39mself\u001b[39;49m\u001b[39m.\u001b[39;49mparseImpl( instring, preloc, doActions )\n\u001b[1;32m   <a href='file:///~/.local/lib/python3.9/site-packages/pkg_resources/_vendor/pyparsing.py?line=1407'>1408</a>\u001b[0m tokens \u001b[39m=\u001b[39m \u001b[39mself\u001b[39m\u001b[39m.\u001b[39mpostParse( instring, loc, tokens )\n",
      "File \u001b[0;32m~/.local/lib/python3.9/site-packages/pkg_resources/_vendor/pyparsing.py:3205\u001b[0m, in \u001b[0;36mStringEnd.parseImpl\u001b[0;34m(self, instring, loc, doActions)\u001b[0m\n\u001b[1;32m   <a href='file:///~/.local/lib/python3.9/site-packages/pkg_resources/_vendor/pyparsing.py?line=3203'>3204</a>\u001b[0m \u001b[39mif\u001b[39;00m loc \u001b[39m<\u001b[39m \u001b[39mlen\u001b[39m(instring):\n\u001b[0;32m-> <a href='file:///~/.local/lib/python3.9/site-packages/pkg_resources/_vendor/pyparsing.py?line=3204'>3205</a>\u001b[0m     \u001b[39mraise\u001b[39;00m ParseException(instring, loc, \u001b[39mself\u001b[39m\u001b[39m.\u001b[39merrmsg, \u001b[39mself\u001b[39m)\n\u001b[1;32m   <a href='file:///~/.local/lib/python3.9/site-packages/pkg_resources/_vendor/pyparsing.py?line=3205'>3206</a>\u001b[0m \u001b[39melif\u001b[39;00m loc \u001b[39m==\u001b[39m \u001b[39mlen\u001b[39m(instring):\n",
      "\u001b[0;31mParseException\u001b[0m: Expected stringEnd (at char 3), (line:1, col:4)",
      "\nDuring handling of the above exception, another exception occurred:\n",
      "\u001b[0;31mInvalidRequirement\u001b[0m                        Traceback (most recent call last)",
      "\u001b[1;32m/workspaces/Indicators/test/test.ipynb Cell 4'\u001b[0m in \u001b[0;36m<module>\u001b[0;34m\u001b[0m\n\u001b[0;32m----> <a href='vscode-notebook-cell://dev-container%2B693a5c6d7970726f6772616d6d5c4d7950726f6772616d6d5c4d7950726f6a656374735c76325c4e4e54726164655c76325c496e64696361746f7273/workspaces/Indicators/test/test.ipynb#ch0000003vscode-remote?line=0'>1</a>\u001b[0m get_requirements()\n",
      "\u001b[1;32m/workspaces/Indicators/test/test.ipynb Cell 3'\u001b[0m in \u001b[0;36mget_requirements\u001b[0;34m()\u001b[0m\n\u001b[1;32m     <a href='vscode-notebook-cell://dev-container%2B693a5c6d7970726f6772616d6d5c4d7950726f6772616d6d5c4d7950726f6a656374735c76325c4e4e54726164655c76325c496e64696361746f7273/workspaces/Indicators/test/test.ipynb#ch0000002vscode-remote?line=13'>14</a>\u001b[0m \u001b[39mfor\u001b[39;00m req_txt \u001b[39min\u001b[39;00m get_req_files(\u001b[39m\"\u001b[39m\u001b[39mrequirements.txt\u001b[39m\u001b[39m\"\u001b[39m):\n\u001b[1;32m     <a href='vscode-notebook-cell://dev-container%2B693a5c6d7970726f6772616d6d5c4d7950726f6772616d6d5c4d7950726f6a656374735c76325c4e4e54726164655c76325c496e64696361746f7273/workspaces/Indicators/test/test.ipynb#ch0000002vscode-remote?line=14'>15</a>\u001b[0m     ret_requires\u001b[39m.\u001b[39mappend(req_txt)\n\u001b[0;32m---> <a href='vscode-notebook-cell://dev-container%2B693a5c6d7970726f6772616d6d5c4d7950726f6772616d6d5c4d7950726f6a656374735c76325c4e4e54726164655c76325c496e64696361746f7273/workspaces/Indicators/test/test.ipynb#ch0000002vscode-remote?line=15'>16</a>\u001b[0m \u001b[39mfor\u001b[39;00m req_txt \u001b[39min\u001b[39;00m get_req_files(\u001b[39m\"\u001b[39;49m\u001b[39mrequirements_ssh.txt\u001b[39;49m\u001b[39m\"\u001b[39;49m):\n\u001b[1;32m     <a href='vscode-notebook-cell://dev-container%2B693a5c6d7970726f6772616d6d5c4d7950726f6772616d6d5c4d7950726f6a656374735c76325c4e4e54726164655c76325c496e64696361746f7273/workspaces/Indicators/test/test.ipynb#ch0000002vscode-remote?line=16'>17</a>\u001b[0m     ret_requires\u001b[39m.\u001b[39mappend(req_txt)\n\u001b[1;32m     <a href='vscode-notebook-cell://dev-container%2B693a5c6d7970726f6772616d6d5c4d7950726f6772616d6d5c4d7950726f6a656374735c76325c4e4e54726164655c76325c496e64696361746f7273/workspaces/Indicators/test/test.ipynb#ch0000002vscode-remote?line=17'>18</a>\u001b[0m \u001b[39mreturn\u001b[39;00m ret_requires\n",
      "\u001b[1;32m/workspaces/Indicators/test/test.ipynb Cell 3'\u001b[0m in \u001b[0;36mget_req_files\u001b[0;34m(file)\u001b[0m\n\u001b[1;32m      <a href='vscode-notebook-cell://dev-container%2B693a5c6d7970726f6772616d6d5c4d7950726f6772616d6d5c4d7950726f6a656374735c76325c4e4e54726164655c76325c496e64696361746f7273/workspaces/Indicators/test/test.ipynb#ch0000002vscode-remote?line=5'>6</a>\u001b[0m \u001b[39mwith\u001b[39;00m \u001b[39mopen\u001b[39m(file_path) \u001b[39mas\u001b[39;00m requirements_txt:\n\u001b[1;32m      <a href='vscode-notebook-cell://dev-container%2B693a5c6d7970726f6772616d6d5c4d7950726f6772616d6d5c4d7950726f6a656374735c76325c4e4e54726164655c76325c496e64696361746f7273/workspaces/Indicators/test/test.ipynb#ch0000002vscode-remote?line=6'>7</a>\u001b[0m     ret \u001b[39m=\u001b[39m []\n\u001b[0;32m----> <a href='vscode-notebook-cell://dev-container%2B693a5c6d7970726f6772616d6d5c4d7950726f6772616d6d5c4d7950726f6a656374735c76325c4e4e54726164655c76325c496e64696361746f7273/workspaces/Indicators/test/test.ipynb#ch0000002vscode-remote?line=7'>8</a>\u001b[0m     \u001b[39mfor\u001b[39;00m requirement \u001b[39min\u001b[39;00m pkg_resources\u001b[39m.\u001b[39mparse_requirements(requirements_txt):\n\u001b[1;32m      <a href='vscode-notebook-cell://dev-container%2B693a5c6d7970726f6772616d6d5c4d7950726f6772616d6d5c4d7950726f6a656374735c76325c4e4e54726164655c76325c496e64696361746f7273/workspaces/Indicators/test/test.ipynb#ch0000002vscode-remote?line=8'>9</a>\u001b[0m         ret\u001b[39m.\u001b[39mappend(\u001b[39mstr\u001b[39m(requirement))\n\u001b[1;32m     <a href='vscode-notebook-cell://dev-container%2B693a5c6d7970726f6772616d6d5c4d7950726f6772616d6d5c4d7950726f6a656374735c76325c4e4e54726164655c76325c496e64696361746f7273/workspaces/Indicators/test/test.ipynb#ch0000002vscode-remote?line=9'>10</a>\u001b[0m     \u001b[39mreturn\u001b[39;00m ret\n",
      "File \u001b[0;32m~/.local/lib/python3.9/site-packages/pkg_resources/__init__.py:3089\u001b[0m, in \u001b[0;36mRequirement.__init__\u001b[0;34m(self, requirement_string)\u001b[0m\n\u001b[1;32m   <a href='file:///~/.local/lib/python3.9/site-packages/pkg_resources/__init__.py?line=3086'>3087</a>\u001b[0m \u001b[39mdef\u001b[39;00m \u001b[39m__init__\u001b[39m(\u001b[39mself\u001b[39m, requirement_string):\n\u001b[1;32m   <a href='file:///~/.local/lib/python3.9/site-packages/pkg_resources/__init__.py?line=3087'>3088</a>\u001b[0m     \u001b[39m\"\"\"DO NOT CALL THIS UNDOCUMENTED METHOD; use Requirement.parse()!\"\"\"\u001b[39;00m\n\u001b[0;32m-> <a href='file:///~/.local/lib/python3.9/site-packages/pkg_resources/__init__.py?line=3088'>3089</a>\u001b[0m     \u001b[39msuper\u001b[39;49m(Requirement, \u001b[39mself\u001b[39;49m)\u001b[39m.\u001b[39;49m\u001b[39m__init__\u001b[39;49m(requirement_string)\n\u001b[1;32m   <a href='file:///~/.local/lib/python3.9/site-packages/pkg_resources/__init__.py?line=3089'>3090</a>\u001b[0m     \u001b[39mself\u001b[39m\u001b[39m.\u001b[39munsafe_name \u001b[39m=\u001b[39m \u001b[39mself\u001b[39m\u001b[39m.\u001b[39mname\n\u001b[1;32m   <a href='file:///~/.local/lib/python3.9/site-packages/pkg_resources/__init__.py?line=3090'>3091</a>\u001b[0m     project_name \u001b[39m=\u001b[39m safe_name(\u001b[39mself\u001b[39m\u001b[39m.\u001b[39mname)\n",
      "File \u001b[0;32m~/.local/lib/python3.9/site-packages/pkg_resources/_vendor/packaging/requirements.py:104\u001b[0m, in \u001b[0;36mRequirement.__init__\u001b[0;34m(self, requirement_string)\u001b[0m\n\u001b[1;32m    <a href='file:///~/.local/lib/python3.9/site-packages/pkg_resources/_vendor/packaging/requirements.py?line=101'>102</a>\u001b[0m     req \u001b[39m=\u001b[39m REQUIREMENT\u001b[39m.\u001b[39mparseString(requirement_string)\n\u001b[1;32m    <a href='file:///~/.local/lib/python3.9/site-packages/pkg_resources/_vendor/packaging/requirements.py?line=102'>103</a>\u001b[0m \u001b[39mexcept\u001b[39;00m ParseException \u001b[39mas\u001b[39;00m e:\n\u001b[0;32m--> <a href='file:///~/.local/lib/python3.9/site-packages/pkg_resources/_vendor/packaging/requirements.py?line=103'>104</a>\u001b[0m     \u001b[39mraise\u001b[39;00m InvalidRequirement(\n\u001b[1;32m    <a href='file:///~/.local/lib/python3.9/site-packages/pkg_resources/_vendor/packaging/requirements.py?line=104'>105</a>\u001b[0m         \u001b[39mf\u001b[39m\u001b[39m'\u001b[39m\u001b[39mParse error at \u001b[39m\u001b[39m\"\u001b[39m\u001b[39m{\u001b[39;00m requirement_string[e\u001b[39m.\u001b[39mloc : e\u001b[39m.\u001b[39mloc \u001b[39m+\u001b[39m \u001b[39m8\u001b[39m]\u001b[39m!r}\u001b[39;00m\u001b[39m\"\u001b[39m\u001b[39m: \u001b[39m\u001b[39m{\u001b[39;00me\u001b[39m.\u001b[39mmsg\u001b[39m}\u001b[39;00m\u001b[39m'\u001b[39m\n\u001b[1;32m    <a href='file:///~/.local/lib/python3.9/site-packages/pkg_resources/_vendor/packaging/requirements.py?line=105'>106</a>\u001b[0m     )\n\u001b[1;32m    <a href='file:///~/.local/lib/python3.9/site-packages/pkg_resources/_vendor/packaging/requirements.py?line=107'>108</a>\u001b[0m \u001b[39mself\u001b[39m\u001b[39m.\u001b[39mname: \u001b[39mstr\u001b[39m \u001b[39m=\u001b[39m req\u001b[39m.\u001b[39mname\n\u001b[1;32m    <a href='file:///~/.local/lib/python3.9/site-packages/pkg_resources/_vendor/packaging/requirements.py?line=108'>109</a>\u001b[0m \u001b[39mif\u001b[39;00m req\u001b[39m.\u001b[39murl:\n",
      "\u001b[0;31mInvalidRequirement\u001b[0m: Parse error at \"'+ssh://g'\": Expected stringEnd"
     ]
    }
   ],
   "source": [
    "get_requirements()"
   ]
  },
  {
   "cell_type": "code",
   "execution_count": 6,
   "metadata": {},
   "outputs": [
    {
     "ename": "InvalidRequirement",
     "evalue": "Parse error at \"'+ssh://g'\": Expected stringEnd",
     "output_type": "error",
     "traceback": [
      "\u001b[0;31m---------------------------------------------------------------------------\u001b[0m",
      "\u001b[0;31mParseException\u001b[0m                            Traceback (most recent call last)",
      "File \u001b[0;32m~/.local/lib/python3.9/site-packages/pkg_resources/_vendor/packaging/requirements.py:102\u001b[0m, in \u001b[0;36mRequirement.__init__\u001b[0;34m(self, requirement_string)\u001b[0m\n\u001b[1;32m    <a href='file:///~/.local/lib/python3.9/site-packages/pkg_resources/_vendor/packaging/requirements.py?line=100'>101</a>\u001b[0m \u001b[39mtry\u001b[39;00m:\n\u001b[0;32m--> <a href='file:///~/.local/lib/python3.9/site-packages/pkg_resources/_vendor/packaging/requirements.py?line=101'>102</a>\u001b[0m     req \u001b[39m=\u001b[39m REQUIREMENT\u001b[39m.\u001b[39;49mparseString(requirement_string)\n\u001b[1;32m    <a href='file:///~/.local/lib/python3.9/site-packages/pkg_resources/_vendor/packaging/requirements.py?line=102'>103</a>\u001b[0m \u001b[39mexcept\u001b[39;00m ParseException \u001b[39mas\u001b[39;00m e:\n",
      "File \u001b[0;32m~/.local/lib/python3.9/site-packages/pkg_resources/_vendor/pyparsing.py:1654\u001b[0m, in \u001b[0;36mParserElement.parseString\u001b[0;34m(self, instring, parseAll)\u001b[0m\n\u001b[1;32m   <a href='file:///~/.local/lib/python3.9/site-packages/pkg_resources/_vendor/pyparsing.py?line=1651'>1652</a>\u001b[0m     \u001b[39melse\u001b[39;00m:\n\u001b[1;32m   <a href='file:///~/.local/lib/python3.9/site-packages/pkg_resources/_vendor/pyparsing.py?line=1652'>1653</a>\u001b[0m         \u001b[39m# catch and re-raise exception from here, clears out pyparsing internal stack trace\u001b[39;00m\n\u001b[0;32m-> <a href='file:///~/.local/lib/python3.9/site-packages/pkg_resources/_vendor/pyparsing.py?line=1653'>1654</a>\u001b[0m         \u001b[39mraise\u001b[39;00m exc\n\u001b[1;32m   <a href='file:///~/.local/lib/python3.9/site-packages/pkg_resources/_vendor/pyparsing.py?line=1654'>1655</a>\u001b[0m \u001b[39melse\u001b[39;00m:\n",
      "File \u001b[0;32m~/.local/lib/python3.9/site-packages/pkg_resources/_vendor/pyparsing.py:1644\u001b[0m, in \u001b[0;36mParserElement.parseString\u001b[0;34m(self, instring, parseAll)\u001b[0m\n\u001b[1;32m   <a href='file:///~/.local/lib/python3.9/site-packages/pkg_resources/_vendor/pyparsing.py?line=1642'>1643</a>\u001b[0m \u001b[39mtry\u001b[39;00m:\n\u001b[0;32m-> <a href='file:///~/.local/lib/python3.9/site-packages/pkg_resources/_vendor/pyparsing.py?line=1643'>1644</a>\u001b[0m     loc, tokens \u001b[39m=\u001b[39m \u001b[39mself\u001b[39;49m\u001b[39m.\u001b[39;49m_parse( instring, \u001b[39m0\u001b[39;49m )\n\u001b[1;32m   <a href='file:///~/.local/lib/python3.9/site-packages/pkg_resources/_vendor/pyparsing.py?line=1644'>1645</a>\u001b[0m     \u001b[39mif\u001b[39;00m parseAll:\n",
      "File \u001b[0;32m~/.local/lib/python3.9/site-packages/pkg_resources/_vendor/pyparsing.py:1402\u001b[0m, in \u001b[0;36mParserElement._parseNoCache\u001b[0;34m(self, instring, loc, doActions, callPreParse)\u001b[0m\n\u001b[1;32m   <a href='file:///~/.local/lib/python3.9/site-packages/pkg_resources/_vendor/pyparsing.py?line=1400'>1401</a>\u001b[0m \u001b[39mtry\u001b[39;00m:\n\u001b[0;32m-> <a href='file:///~/.local/lib/python3.9/site-packages/pkg_resources/_vendor/pyparsing.py?line=1401'>1402</a>\u001b[0m     loc,tokens \u001b[39m=\u001b[39m \u001b[39mself\u001b[39;49m\u001b[39m.\u001b[39;49mparseImpl( instring, preloc, doActions )\n\u001b[1;32m   <a href='file:///~/.local/lib/python3.9/site-packages/pkg_resources/_vendor/pyparsing.py?line=1402'>1403</a>\u001b[0m \u001b[39mexcept\u001b[39;00m \u001b[39mIndexError\u001b[39;00m:\n",
      "File \u001b[0;32m~/.local/lib/python3.9/site-packages/pkg_resources/_vendor/pyparsing.py:3417\u001b[0m, in \u001b[0;36mAnd.parseImpl\u001b[0;34m(self, instring, loc, doActions)\u001b[0m\n\u001b[1;32m   <a href='file:///~/.local/lib/python3.9/site-packages/pkg_resources/_vendor/pyparsing.py?line=3415'>3416</a>\u001b[0m \u001b[39melse\u001b[39;00m:\n\u001b[0;32m-> <a href='file:///~/.local/lib/python3.9/site-packages/pkg_resources/_vendor/pyparsing.py?line=3416'>3417</a>\u001b[0m     loc, exprtokens \u001b[39m=\u001b[39m e\u001b[39m.\u001b[39;49m_parse( instring, loc, doActions )\n\u001b[1;32m   <a href='file:///~/.local/lib/python3.9/site-packages/pkg_resources/_vendor/pyparsing.py?line=3417'>3418</a>\u001b[0m \u001b[39mif\u001b[39;00m exprtokens \u001b[39mor\u001b[39;00m exprtokens\u001b[39m.\u001b[39mhaskeys():\n",
      "File \u001b[0;32m~/.local/lib/python3.9/site-packages/pkg_resources/_vendor/pyparsing.py:1406\u001b[0m, in \u001b[0;36mParserElement._parseNoCache\u001b[0;34m(self, instring, loc, doActions, callPreParse)\u001b[0m\n\u001b[1;32m   <a href='file:///~/.local/lib/python3.9/site-packages/pkg_resources/_vendor/pyparsing.py?line=1404'>1405</a>\u001b[0m     \u001b[39melse\u001b[39;00m:\n\u001b[0;32m-> <a href='file:///~/.local/lib/python3.9/site-packages/pkg_resources/_vendor/pyparsing.py?line=1405'>1406</a>\u001b[0m         loc,tokens \u001b[39m=\u001b[39m \u001b[39mself\u001b[39;49m\u001b[39m.\u001b[39;49mparseImpl( instring, preloc, doActions )\n\u001b[1;32m   <a href='file:///~/.local/lib/python3.9/site-packages/pkg_resources/_vendor/pyparsing.py?line=1407'>1408</a>\u001b[0m tokens \u001b[39m=\u001b[39m \u001b[39mself\u001b[39m\u001b[39m.\u001b[39mpostParse( instring, loc, tokens )\n",
      "File \u001b[0;32m~/.local/lib/python3.9/site-packages/pkg_resources/_vendor/pyparsing.py:3205\u001b[0m, in \u001b[0;36mStringEnd.parseImpl\u001b[0;34m(self, instring, loc, doActions)\u001b[0m\n\u001b[1;32m   <a href='file:///~/.local/lib/python3.9/site-packages/pkg_resources/_vendor/pyparsing.py?line=3203'>3204</a>\u001b[0m \u001b[39mif\u001b[39;00m loc \u001b[39m<\u001b[39m \u001b[39mlen\u001b[39m(instring):\n\u001b[0;32m-> <a href='file:///~/.local/lib/python3.9/site-packages/pkg_resources/_vendor/pyparsing.py?line=3204'>3205</a>\u001b[0m     \u001b[39mraise\u001b[39;00m ParseException(instring, loc, \u001b[39mself\u001b[39m\u001b[39m.\u001b[39merrmsg, \u001b[39mself\u001b[39m)\n\u001b[1;32m   <a href='file:///~/.local/lib/python3.9/site-packages/pkg_resources/_vendor/pyparsing.py?line=3205'>3206</a>\u001b[0m \u001b[39melif\u001b[39;00m loc \u001b[39m==\u001b[39m \u001b[39mlen\u001b[39m(instring):\n",
      "\u001b[0;31mParseException\u001b[0m: Expected stringEnd (at char 3), (line:1, col:4)",
      "\nDuring handling of the above exception, another exception occurred:\n",
      "\u001b[0;31mInvalidRequirement\u001b[0m                        Traceback (most recent call last)",
      "\u001b[1;32m/workspaces/Indicators/test/test.ipynb Cell 5'\u001b[0m in \u001b[0;36m<module>\u001b[0;34m\u001b[0m\n\u001b[1;32m      <a href='vscode-notebook-cell://dev-container%2B693a5c6d7970726f6772616d6d5c4d7950726f6772616d6d5c4d7950726f6a656374735c76325c4e4e54726164655c76325c496e64696361746f7273/workspaces/Indicators/test/test.ipynb#ch0000004vscode-remote?line=0'>1</a>\u001b[0m file_path \u001b[39m=\u001b[39m os\u001b[39m.\u001b[39mpath\u001b[39m.\u001b[39mjoin(Path(\u001b[39m'\u001b[39m\u001b[39m.\u001b[39m\u001b[39m'\u001b[39m),\u001b[39m\"\u001b[39m\u001b[39mrequirements_ssh.txt\u001b[39m\u001b[39m\"\u001b[39m)\n\u001b[1;32m      <a href='vscode-notebook-cell://dev-container%2B693a5c6d7970726f6772616d6d5c4d7950726f6772616d6d5c4d7950726f6a656374735c76325c4e4e54726164655c76325c496e64696361746f7273/workspaces/Indicators/test/test.ipynb#ch0000004vscode-remote?line=1'>2</a>\u001b[0m \u001b[39mwith\u001b[39;00m \u001b[39mopen\u001b[39m(file_path) \u001b[39mas\u001b[39;00m requirements_txt:\n\u001b[0;32m----> <a href='vscode-notebook-cell://dev-container%2B693a5c6d7970726f6772616d6d5c4d7950726f6772616d6d5c4d7950726f6a656374735c76325c4e4e54726164655c76325c496e64696361746f7273/workspaces/Indicators/test/test.ipynb#ch0000004vscode-remote?line=2'>3</a>\u001b[0m     install_requires \u001b[39m=\u001b[39m [\n\u001b[1;32m      <a href='vscode-notebook-cell://dev-container%2B693a5c6d7970726f6772616d6d5c4d7950726f6772616d6d5c4d7950726f6a656374735c76325c4e4e54726164655c76325c496e64696361746f7273/workspaces/Indicators/test/test.ipynb#ch0000004vscode-remote?line=3'>4</a>\u001b[0m         \u001b[39mstr\u001b[39m(requirement)\n\u001b[1;32m      <a href='vscode-notebook-cell://dev-container%2B693a5c6d7970726f6772616d6d5c4d7950726f6772616d6d5c4d7950726f6a656374735c76325c4e4e54726164655c76325c496e64696361746f7273/workspaces/Indicators/test/test.ipynb#ch0000004vscode-remote?line=4'>5</a>\u001b[0m         \u001b[39mfor\u001b[39;00m requirement\n\u001b[1;32m      <a href='vscode-notebook-cell://dev-container%2B693a5c6d7970726f6772616d6d5c4d7950726f6772616d6d5c4d7950726f6a656374735c76325c4e4e54726164655c76325c496e64696361746f7273/workspaces/Indicators/test/test.ipynb#ch0000004vscode-remote?line=5'>6</a>\u001b[0m         \u001b[39min\u001b[39;00m pkg_resources\u001b[39m.\u001b[39mparse_requirements(requirements_txt)\n\u001b[1;32m      <a href='vscode-notebook-cell://dev-container%2B693a5c6d7970726f6772616d6d5c4d7950726f6772616d6d5c4d7950726f6a656374735c76325c4e4e54726164655c76325c496e64696361746f7273/workspaces/Indicators/test/test.ipynb#ch0000004vscode-remote?line=6'>7</a>\u001b[0m     ]\n\u001b[1;32m      <a href='vscode-notebook-cell://dev-container%2B693a5c6d7970726f6772616d6d5c4d7950726f6772616d6d5c4d7950726f6a656374735c76325c4e4e54726164655c76325c496e64696361746f7273/workspaces/Indicators/test/test.ipynb#ch0000004vscode-remote?line=7'>8</a>\u001b[0m install_requires\n",
      "\u001b[1;32m/workspaces/Indicators/test/test.ipynb Cell 5'\u001b[0m in \u001b[0;36m<listcomp>\u001b[0;34m(.0)\u001b[0m\n\u001b[1;32m      <a href='vscode-notebook-cell://dev-container%2B693a5c6d7970726f6772616d6d5c4d7950726f6772616d6d5c4d7950726f6a656374735c76325c4e4e54726164655c76325c496e64696361746f7273/workspaces/Indicators/test/test.ipynb#ch0000004vscode-remote?line=0'>1</a>\u001b[0m file_path \u001b[39m=\u001b[39m os\u001b[39m.\u001b[39mpath\u001b[39m.\u001b[39mjoin(Path(\u001b[39m'\u001b[39m\u001b[39m.\u001b[39m\u001b[39m'\u001b[39m),\u001b[39m\"\u001b[39m\u001b[39mrequirements_ssh.txt\u001b[39m\u001b[39m\"\u001b[39m)\n\u001b[1;32m      <a href='vscode-notebook-cell://dev-container%2B693a5c6d7970726f6772616d6d5c4d7950726f6772616d6d5c4d7950726f6a656374735c76325c4e4e54726164655c76325c496e64696361746f7273/workspaces/Indicators/test/test.ipynb#ch0000004vscode-remote?line=1'>2</a>\u001b[0m \u001b[39mwith\u001b[39;00m \u001b[39mopen\u001b[39m(file_path) \u001b[39mas\u001b[39;00m requirements_txt:\n\u001b[0;32m----> <a href='vscode-notebook-cell://dev-container%2B693a5c6d7970726f6772616d6d5c4d7950726f6772616d6d5c4d7950726f6a656374735c76325c4e4e54726164655c76325c496e64696361746f7273/workspaces/Indicators/test/test.ipynb#ch0000004vscode-remote?line=2'>3</a>\u001b[0m     install_requires \u001b[39m=\u001b[39m [\n\u001b[1;32m      <a href='vscode-notebook-cell://dev-container%2B693a5c6d7970726f6772616d6d5c4d7950726f6772616d6d5c4d7950726f6a656374735c76325c4e4e54726164655c76325c496e64696361746f7273/workspaces/Indicators/test/test.ipynb#ch0000004vscode-remote?line=3'>4</a>\u001b[0m         \u001b[39mstr\u001b[39m(requirement)\n\u001b[1;32m      <a href='vscode-notebook-cell://dev-container%2B693a5c6d7970726f6772616d6d5c4d7950726f6772616d6d5c4d7950726f6a656374735c76325c4e4e54726164655c76325c496e64696361746f7273/workspaces/Indicators/test/test.ipynb#ch0000004vscode-remote?line=4'>5</a>\u001b[0m         \u001b[39mfor\u001b[39;00m requirement\n\u001b[1;32m      <a href='vscode-notebook-cell://dev-container%2B693a5c6d7970726f6772616d6d5c4d7950726f6772616d6d5c4d7950726f6a656374735c76325c4e4e54726164655c76325c496e64696361746f7273/workspaces/Indicators/test/test.ipynb#ch0000004vscode-remote?line=5'>6</a>\u001b[0m         \u001b[39min\u001b[39;00m pkg_resources\u001b[39m.\u001b[39mparse_requirements(requirements_txt)\n\u001b[1;32m      <a href='vscode-notebook-cell://dev-container%2B693a5c6d7970726f6772616d6d5c4d7950726f6772616d6d5c4d7950726f6a656374735c76325c4e4e54726164655c76325c496e64696361746f7273/workspaces/Indicators/test/test.ipynb#ch0000004vscode-remote?line=6'>7</a>\u001b[0m     ]\n\u001b[1;32m      <a href='vscode-notebook-cell://dev-container%2B693a5c6d7970726f6772616d6d5c4d7950726f6772616d6d5c4d7950726f6a656374735c76325c4e4e54726164655c76325c496e64696361746f7273/workspaces/Indicators/test/test.ipynb#ch0000004vscode-remote?line=7'>8</a>\u001b[0m install_requires\n",
      "File \u001b[0;32m~/.local/lib/python3.9/site-packages/pkg_resources/__init__.py:3089\u001b[0m, in \u001b[0;36mRequirement.__init__\u001b[0;34m(self, requirement_string)\u001b[0m\n\u001b[1;32m   <a href='file:///~/.local/lib/python3.9/site-packages/pkg_resources/__init__.py?line=3086'>3087</a>\u001b[0m \u001b[39mdef\u001b[39;00m \u001b[39m__init__\u001b[39m(\u001b[39mself\u001b[39m, requirement_string):\n\u001b[1;32m   <a href='file:///~/.local/lib/python3.9/site-packages/pkg_resources/__init__.py?line=3087'>3088</a>\u001b[0m     \u001b[39m\"\"\"DO NOT CALL THIS UNDOCUMENTED METHOD; use Requirement.parse()!\"\"\"\u001b[39;00m\n\u001b[0;32m-> <a href='file:///~/.local/lib/python3.9/site-packages/pkg_resources/__init__.py?line=3088'>3089</a>\u001b[0m     \u001b[39msuper\u001b[39;49m(Requirement, \u001b[39mself\u001b[39;49m)\u001b[39m.\u001b[39;49m\u001b[39m__init__\u001b[39;49m(requirement_string)\n\u001b[1;32m   <a href='file:///~/.local/lib/python3.9/site-packages/pkg_resources/__init__.py?line=3089'>3090</a>\u001b[0m     \u001b[39mself\u001b[39m\u001b[39m.\u001b[39munsafe_name \u001b[39m=\u001b[39m \u001b[39mself\u001b[39m\u001b[39m.\u001b[39mname\n\u001b[1;32m   <a href='file:///~/.local/lib/python3.9/site-packages/pkg_resources/__init__.py?line=3090'>3091</a>\u001b[0m     project_name \u001b[39m=\u001b[39m safe_name(\u001b[39mself\u001b[39m\u001b[39m.\u001b[39mname)\n",
      "File \u001b[0;32m~/.local/lib/python3.9/site-packages/pkg_resources/_vendor/packaging/requirements.py:104\u001b[0m, in \u001b[0;36mRequirement.__init__\u001b[0;34m(self, requirement_string)\u001b[0m\n\u001b[1;32m    <a href='file:///~/.local/lib/python3.9/site-packages/pkg_resources/_vendor/packaging/requirements.py?line=101'>102</a>\u001b[0m     req \u001b[39m=\u001b[39m REQUIREMENT\u001b[39m.\u001b[39mparseString(requirement_string)\n\u001b[1;32m    <a href='file:///~/.local/lib/python3.9/site-packages/pkg_resources/_vendor/packaging/requirements.py?line=102'>103</a>\u001b[0m \u001b[39mexcept\u001b[39;00m ParseException \u001b[39mas\u001b[39;00m e:\n\u001b[0;32m--> <a href='file:///~/.local/lib/python3.9/site-packages/pkg_resources/_vendor/packaging/requirements.py?line=103'>104</a>\u001b[0m     \u001b[39mraise\u001b[39;00m InvalidRequirement(\n\u001b[1;32m    <a href='file:///~/.local/lib/python3.9/site-packages/pkg_resources/_vendor/packaging/requirements.py?line=104'>105</a>\u001b[0m         \u001b[39mf\u001b[39m\u001b[39m'\u001b[39m\u001b[39mParse error at \u001b[39m\u001b[39m\"\u001b[39m\u001b[39m{\u001b[39;00m requirement_string[e\u001b[39m.\u001b[39mloc : e\u001b[39m.\u001b[39mloc \u001b[39m+\u001b[39m \u001b[39m8\u001b[39m]\u001b[39m!r}\u001b[39;00m\u001b[39m\"\u001b[39m\u001b[39m: \u001b[39m\u001b[39m{\u001b[39;00me\u001b[39m.\u001b[39mmsg\u001b[39m}\u001b[39;00m\u001b[39m'\u001b[39m\n\u001b[1;32m    <a href='file:///~/.local/lib/python3.9/site-packages/pkg_resources/_vendor/packaging/requirements.py?line=105'>106</a>\u001b[0m     )\n\u001b[1;32m    <a href='file:///~/.local/lib/python3.9/site-packages/pkg_resources/_vendor/packaging/requirements.py?line=107'>108</a>\u001b[0m \u001b[39mself\u001b[39m\u001b[39m.\u001b[39mname: \u001b[39mstr\u001b[39m \u001b[39m=\u001b[39m req\u001b[39m.\u001b[39mname\n\u001b[1;32m    <a href='file:///~/.local/lib/python3.9/site-packages/pkg_resources/_vendor/packaging/requirements.py?line=108'>109</a>\u001b[0m \u001b[39mif\u001b[39;00m req\u001b[39m.\u001b[39murl:\n",
      "\u001b[0;31mInvalidRequirement\u001b[0m: Parse error at \"'+ssh://g'\": Expected stringEnd"
     ]
    }
   ],
   "source": [
    "file_path = os.path.join(Path('.'),\"requirements_ssh.txt\")\n",
    "with open(file_path) as requirements_txt:\n",
    "    install_requires = [\n",
    "        str(requirement)\n",
    "        for requirement\n",
    "        in pkg_resources.parse_requirements(requirements_txt)\n",
    "    ]\n",
    "install_requires"
   ]
  }
 ],
 "metadata": {
  "interpreter": {
   "hash": "949777d72b0d2535278d3dc13498b2535136f6dfe0678499012e853ee9abcab1"
  },
  "kernelspec": {
   "display_name": "Python 3.9.9 64-bit",
   "language": "python",
   "name": "python3"
  },
  "language_info": {
   "codemirror_mode": {
    "name": "ipython",
    "version": 3
   },
   "file_extension": ".py",
   "mimetype": "text/x-python",
   "name": "python",
   "nbconvert_exporter": "python",
   "pygments_lexer": "ipython3",
   "version": "3.9.2"
  },
  "orig_nbformat": 4
 },
 "nbformat": 4,
 "nbformat_minor": 2
}
