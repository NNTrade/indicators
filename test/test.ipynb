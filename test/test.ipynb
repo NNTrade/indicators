{
 "cells": [
  {
   "cell_type": "code",
   "execution_count": 2,
   "metadata": {},
   "outputs": [
    {
     "data": {
      "text/plain": [
       "[10, 2, 3, 7, 3]"
      ]
     },
     "execution_count": 2,
     "metadata": {},
     "output_type": "execute_result"
    }
   ],
   "source": [
    "arr = [10,2,3,7,3]\n",
    "arr"
   ]
  },
  {
   "cell_type": "code",
   "execution_count": 4,
   "metadata": {},
   "outputs": [
    {
     "data": {
      "text/plain": [
       "[3, 7, 3, 2, 10]"
      ]
     },
     "execution_count": 4,
     "metadata": {},
     "output_type": "execute_result"
    }
   ],
   "source": [
    "arr[::-1]"
   ]
  },
  {
   "cell_type": "code",
   "execution_count": 8,
   "metadata": {},
   "outputs": [],
   "source": [
    "import pkg_resources\n",
    "import os\n",
    "from pathlib import Path\n",
    "def get_req_files(file:str):\n",
    "    file_path = os.path.join(Path('.'),file)\n",
    "    with open(file_path) as requirements_txt:\n",
    "        ret = []\n",
    "        for requirement in pkg_resources.parse_requirements(requirements_txt):\n",
    "            ret.append(str(requirement))\n",
    "        return ret\n",
    "\n",
    "def get_requirements():\n",
    "    ret_requires = []\n",
    "    for req_txt in get_req_files(\"requirements.txt\"):\n",
    "        ret_requires.append(req_txt)\n",
    "    for req_txt in get_req_files(\"requirements_ssh.txt\"):\n",
    "        ret_requires.append(req_txt)\n",
    "    return ret_requires"
   ]
  },
  {
   "cell_type": "code",
   "execution_count": 9,
   "metadata": {},
   "outputs": [
    {
     "data": {
      "text/plain": [
       "['pandas',\n",
       " 'numpy',\n",
       " 'quote_source.client@ git+ssh://git@github.com/NNTrade/Quote-source-python-client.git']"
      ]
     },
     "execution_count": 9,
     "metadata": {},
     "output_type": "execute_result"
    }
   ],
   "source": [
    "get_requirements()"
   ]
  },
  {
   "cell_type": "code",
   "execution_count": 7,
   "metadata": {},
   "outputs": [
    {
     "data": {
      "text/plain": [
       "['quote_source.client@ git+ssh://git@github.com/NNTrade/Quote-source-python-client.git']"
      ]
     },
     "execution_count": 7,
     "metadata": {},
     "output_type": "execute_result"
    }
   ],
   "source": [
    "file_path = os.path.join(Path('.'),\"requirements_ssh.txt\")\n",
    "with open(file_path) as requirements_txt:\n",
    "    install_requires = [\n",
    "        str(requirement)\n",
    "        for requirement\n",
    "        in pkg_resources.parse_requirements(requirements_txt)\n",
    "    ]\n",
    "install_requires"
   ]
  }
 ],
 "metadata": {
  "interpreter": {
   "hash": "949777d72b0d2535278d3dc13498b2535136f6dfe0678499012e853ee9abcab1"
  },
  "kernelspec": {
   "display_name": "Python 3.9.9 64-bit",
   "language": "python",
   "name": "python3"
  },
  "language_info": {
   "codemirror_mode": {
    "name": "ipython",
    "version": 3
   },
   "file_extension": ".py",
   "mimetype": "text/x-python",
   "name": "python",
   "nbconvert_exporter": "python",
   "pygments_lexer": "ipython3",
   "version": "3.9.2"
  },
  "orig_nbformat": 4
 },
 "nbformat": 4,
 "nbformat_minor": 2
}
