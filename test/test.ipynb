{
 "cells": [
  {
   "cell_type": "code",
   "execution_count": 2,
   "metadata": {},
   "outputs": [
    {
     "data": {
      "text/plain": [
       "[10, 2, 3, 7, 3]"
      ]
     },
     "execution_count": 2,
     "metadata": {},
     "output_type": "execute_result"
    }
   ],
   "source": [
    "arr = [10,2,3,7,3]\n",
    "arr"
   ]
  },
  {
   "cell_type": "code",
   "execution_count": 3,
   "metadata": {},
   "outputs": [
    {
     "name": "stdout",
     "output_type": "stream",
     "text": [
      "'abc' does not contain invalid symbols.\n",
      "'def)' contains invalid symbols.\n",
      "'def)' contains invalid symbols.\n",
      "'ghi[' contains invalid symbols.\n",
      "'ghi]' contains invalid symbols.\n",
      "'jkl|' contains invalid symbols.\n",
      "'mno_' contains invalid symbols.\n"
     ]
    }
   ],
   "source": [
    "import re\n",
    "\n",
    "def contains_invalid_symbols(s):\n",
    "    # Define the pattern to match the invalid symbols\n",
    "    pattern = r'[()\\[\\]|_]'\n",
    "\n",
    "    # Check if the string contains any of the invalid symbols\n",
    "    return bool(re.search(pattern, s))\n",
    "\n",
    "# Test the function\n",
    "test_strings = [\"abc\", \"def)\",\"def)\",   \"ghi[\",\"ghi]\", \"jkl|\", \"mno_\"]\n",
    "\n",
    "for test_string in test_strings:\n",
    "    if contains_invalid_symbols(test_string):\n",
    "        print(f\"'{test_string}' contains invalid symbols.\")\n",
    "    else:\n",
    "        print(f\"'{test_string}' does not contain invalid symbols.\")"
   ]
  },
  {
   "cell_type": "code",
   "execution_count": 14,
   "metadata": {},
   "outputs": [
    {
     "data": {
      "text/plain": [
       "['NNTrade.indicators.tool',\n",
       " 'NNTrade.indicators.ElliotWaves',\n",
       " 'NNTrade.indicators.SupportLines',\n",
       " 'NNTrade.indicators.RelativePercent',\n",
       " 'NNTrade.indicators.ElliotWaves.misc',\n",
       " 'NNTrade.indicators.ElliotWaves.rules',\n",
       " 'NNTrade.indicators.ElliotWaves.waves',\n",
       " 'NNTrade.indicators']"
      ]
     },
     "execution_count": 14,
     "metadata": {},
     "output_type": "execute_result"
    }
   ],
   "source": [
    "import setuptools\n",
    "lib = \"NNTrade.indicators\"\n",
    "[\"NNTrade.indicators\"] + [f\"{lib}.{pkg}\" for pkg in setuptools.find_packages(where=\"./src\")]\n"
   ]
  },
  {
   "cell_type": "code",
   "execution_count": 4,
   "metadata": {},
   "outputs": [
    {
     "data": {
      "text/plain": [
       "[3, 7, 3, 2, 10]"
      ]
     },
     "execution_count": 4,
     "metadata": {},
     "output_type": "execute_result"
    }
   ],
   "source": [
    "arr[::-1]"
   ]
  },
  {
   "cell_type": "code",
   "execution_count": 8,
   "metadata": {},
   "outputs": [],
   "source": [
    "import pkg_resources\n",
    "import os\n",
    "from pathlib import Path\n",
    "def get_req_files(file:str):\n",
    "    file_path = os.path.join(Path('.'),file)\n",
    "    with open(file_path) as requirements_txt:\n",
    "        ret = []\n",
    "        for requirement in pkg_resources.parse_requirements(requirements_txt):\n",
    "            ret.append(str(requirement))\n",
    "        return ret\n",
    "\n",
    "def get_requirements():\n",
    "    ret_requires = []\n",
    "    for req_txt in get_req_files(\"requirements.txt\"):\n",
    "        ret_requires.append(req_txt)\n",
    "    for req_txt in get_req_files(\"requirements_ssh.txt\"):\n",
    "        ret_requires.append(req_txt)\n",
    "    return ret_requires"
   ]
  },
  {
   "cell_type": "code",
   "execution_count": 9,
   "metadata": {},
   "outputs": [
    {
     "data": {
      "text/plain": [
       "['pandas',\n",
       " 'numpy',\n",
       " 'quote_source.client@ git+ssh://git@github.com/NNTrade/Quote-source-python-client.git']"
      ]
     },
     "execution_count": 9,
     "metadata": {},
     "output_type": "execute_result"
    }
   ],
   "source": [
    "get_requirements()"
   ]
  },
  {
   "cell_type": "code",
   "execution_count": 7,
   "metadata": {},
   "outputs": [
    {
     "data": {
      "text/plain": [
       "['quote_source.client@ git+ssh://git@github.com/NNTrade/Quote-source-python-client.git']"
      ]
     },
     "execution_count": 7,
     "metadata": {},
     "output_type": "execute_result"
    }
   ],
   "source": [
    "file_path = os.path.join(Path('.'),\"requirements_ssh.txt\")\n",
    "with open(file_path) as requirements_txt:\n",
    "    install_requires = [\n",
    "        str(requirement)\n",
    "        for requirement\n",
    "        in pkg_resources.parse_requirements(requirements_txt)\n",
    "    ]\n",
    "install_requires"
   ]
  }
 ],
 "metadata": {
  "interpreter": {
   "hash": "949777d72b0d2535278d3dc13498b2535136f6dfe0678499012e853ee9abcab1"
  },
  "kernelspec": {
   "display_name": "Python 3.9.9 64-bit",
   "language": "python",
   "name": "python3"
  },
  "language_info": {
   "codemirror_mode": {
    "name": "ipython",
    "version": 3
   },
   "file_extension": ".py",
   "mimetype": "text/x-python",
   "name": "python",
   "nbconvert_exporter": "python",
   "pygments_lexer": "ipython3",
   "version": "3.12.2"
  },
  "orig_nbformat": 4
 },
 "nbformat": 4,
 "nbformat_minor": 2
}
